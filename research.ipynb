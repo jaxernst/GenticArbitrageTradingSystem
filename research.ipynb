{
 "cells": [
  {
   "cell_type": "code",
   "execution_count": 1,
   "metadata": {},
   "outputs": [],
   "source": [
    "import requests\n",
    "import time\n",
    "from util.obj_funcs import load_obj, save_obj\n",
    "from Models import GeneticArbitrageModel, TradeExecutionModel, ExchangeData\n",
    "from APIs import KrakenAPI, KucoinAPI"
   ]
  },
  {
   "cell_type": "code",
   "execution_count": 11,
   "metadata": {},
   "outputs": [
    {
     "name": "stdout",
     "output_type": "stream",
     "text": [
      "{'code': '200000', 'data': {'time': 1641347589208, 'sequence': '1624476165551', 'price': '46188', 'size': '0.00076041', 'bestBid': '46187.9', 'bestBidSize': '1.1404532', 'bestAsk': '46188', 'bestAskSize': '0.25914128'}}\n"
     ]
    },
    {
     "ename": "SyntaxError",
     "evalue": "'return' outside function (1060146758.py, line 11)",
     "output_type": "error",
     "traceback": [
      "\u001b[0;36m  File \u001b[0;32m\"/var/folders/tm/s8mfsyxx7l71r3ty321f7hd00000gn/T/ipykernel_8876/1060146758.py\"\u001b[0;36m, line \u001b[0;32m11\u001b[0m\n\u001b[0;31m    return (float(bid), float(ask), float(last))\u001b[0m\n\u001b[0m    ^\u001b[0m\n\u001b[0;31mSyntaxError\u001b[0m\u001b[0;31m:\u001b[0m 'return' outside function\n"
     ]
    }
   ],
   "source": [
    "\n",
    "pair = [\"BTC\", \"USDT\"]\n",
    "\n",
    "tuple_separate = True\n",
    "endpoint = \"/api/v1/market/orderbook/level1\"\n",
    "r = requests.get(f\"https://api.kucoin.com{endpoint}?symbol={pair[0]}-{pair[1]}\").json()\n",
    "print(r)\n",
    "if r['data']:\n",
    "    bid = r['data']['bestBid']\n",
    "    ask = r['data']['bestAsk']\n",
    "    last = r['data']['price']\n",
    "    return (float(bid), float(ask), float(last))\n",
    "else:\n",
    "    print(r)    \n"
   ]
  },
  {
   "cell_type": "code",
   "execution_count": null,
   "metadata": {},
   "outputs": [],
   "source": [
    "msg1 = '[1588,{\"a\":[\"38.873400\",53,\"53.39956000\"],\"b\":[\"38.850800\",54,\"54.75000000\"],\"c\":[\"38.873400\",\"1.35044000\"],\"v\":[\"17294.95872527\",\"373656.15770012\"],\"p\":[\"38.510320\",\"37.239790\"],\"t\":[990,13694],\"l\":[\"37.[548,{\"a\":[\"4572.36000\",103,\"103.09386923\"],\"b\":[\"4572.35000\",2,\"2.25901810\"],\"c\":[\"4572.36000\",\"0.00428791\"],\"v\":[\"1633.99178274\",\"30950.68514225\"],\"p\":[\"4575.25650\",\"4571.83520\"],\"t\":[1591,28624],\"l\":[\"4556.98000\",\"4455.14000\"],\"h\":[\"4608.78000\",\"4668.00000\"],\"o\":[\"4607.00000\",\"4626.00000\"]},\"ticker\",\"ETH/USD\"]'\n",
    "msg2 = \"{'channelID': 2516, 'channelName': 'ticker', 'event': 'subscriptionStatus', 'pair': 'ALGO/ETH', 'status': 'subscribed', 'subscription': {'name': 'ticker'}}\""
   ]
  },
  {
   "cell_type": "code",
   "execution_count": 69,
   "metadata": {},
   "outputs": [],
   "source": [
    "def order_volume_sizer(owned_amount, book_prices, book_sizes, p_guess=None):\n",
    "    convergence_tol = .001 # The tes_volume has to be within .5% of the real_volume\n",
    "    # Check how levels we need to go over to cover the test_volume, then determine the average fill price\n",
    "    if not p_guess:\n",
    "        p_guess = book_sizes[0]\n",
    "\n",
    "    test_volume = p_guess / owned_amount \n",
    "    i = 0\n",
    "    while sum(book_sizes[:i+1]) < test_volume:\n",
    "        i += 1\n",
    "        if i > len(book_sizes):\n",
    "            raise Exception(\"Volume depth is not enough to cover required volume (You must be a damn whale)\")\n",
    "\n",
    "    remaining_volume = (test_volume - sum(book_sizes[:i]))\n",
    "    fill_price = (sum([price*vol for price,vol in zip(book_prices[:i], book_sizes[:i])]) + remaining_volume*book_prices[i]) / (test_volume)\n",
    "    real_volume = fill_price / owned_amount\n",
    "\n",
    "    # Check that the real volume can be covered by the same depth as the test volume\n",
    "    if real_volume > sum(book_sizes[:i+1]):\n",
    "        # Repeat this process until the correct deph is found\n",
    "        return order_volume_sizer(owned_amount, real_volume, book_prices, book_sizes)\n",
    "    elif abs((real_volume - test_volume)/test_volume) < .005:\n",
    "        return fill_price\n",
    "    else:\n",
    "        return order_volume_sizer(owned_amount, book_prices, book_sizes, fill_price)\n",
    "\n"
   ]
  },
  {
   "cell_type": "code",
   "execution_count": 10,
   "metadata": {},
   "outputs": [
    {
     "data": {
      "text/plain": [
       "196"
      ]
     },
     "execution_count": 10,
     "metadata": {},
     "output_type": "execute_result"
    }
   ],
   "source": [
    "\n",
    "len(load_obj(\"profitable_alts\"))\n"
   ]
  },
  {
   "cell_type": "code",
   "execution_count": 14,
   "metadata": {},
   "outputs": [
    {
     "data": {
      "text/plain": [
       "[3, 4, 5, 6, 7]"
      ]
     },
     "execution_count": 14,
     "metadata": {},
     "output_type": "execute_result"
    }
   ],
   "source": [
    "l = [2,3,4,5,6,7]\n",
    "l[1:]"
   ]
  },
  {
   "cell_type": "code",
   "execution_count": 41,
   "metadata": {},
   "outputs": [
    {
     "data": {
      "text/plain": [
       "23"
      ]
     },
     "execution_count": 41,
     "metadata": {},
     "output_type": "execute_result"
    }
   ],
   "source": [
    "book_prices[i]"
   ]
  },
  {
   "cell_type": "code",
   "execution_count": null,
   "metadata": {},
   "outputs": [],
   "source": [
    "# Plot population size vs profits\n",
    "# Plot population size vs execution time\n",
    "import time\n",
    "\n",
    "vector_length = 4\n",
    "pop_size1 = 100\n",
    "pop_size2 = 4000\n",
    "pop_size = pop_size1\n",
    "pop_sizes = []\n",
    "pop_sizes1 = []\n",
    "out_profits = []\n",
    "times = []\n",
    "while pop_size < pop_size2:\n",
    "    t1 = time.time()\n",
    "    profits = GA.do_evolution(vector_length, pop_size)\n",
    "    elasped = time.time() - t1\n",
    "    times.append(elasped)\n",
    "    pop_sizes1.append(pop_size)\n",
    "    \n",
    "    for profit in profits:\n",
    "        out_profits.append(profit)\n",
    "        pop_sizes.append(pop_size)\n",
    "        \n",
    "    print(f\"New pop size {pop_size}\")\n",
    "    pop_size += 100\n",
    "\n"
   ]
  },
  {
   "cell_type": "code",
   "execution_count": 3,
   "metadata": {},
   "outputs": [
    {
     "data": {
      "text/plain": [
       "<matplotlib.collections.PathCollection at 0x24a0381a2e8>"
      ]
     },
     "execution_count": 3,
     "metadata": {},
     "output_type": "execute_result"
    },
    {
     "data": {
      "image/png": "[encoded data removed]",
      "text/plain": [
       "<Figure size 432x288 with 1 Axes>"
      ]
     },
     "metadata": {
      "needs_background": "light"
     },
     "output_type": "display_data"
    }
   ],
   "source": [
    "import matplotlib.pyplot as plt\n",
    "from util import *\n",
    "\n",
    "data = load_obj(\"ProfitComparison\")\n",
    "data['time'] = [t/60 for t in data[\"time\"]]\n",
    "data['time'] =[time*60 for time in data['time']]\n",
    "plt.ylim((-.6,1))\n",
    "#plt.scatter(data[\"time2\"], data[\"API\"])\n",
    "plt.scatter(data[\"time\"], data[\"GA\"])"
   ]
  },
  {
   "cell_type": "code",
   "execution_count": 4,
   "metadata": {},
   "outputs": [
    {
     "data": {
      "image/png": "[encoded data removed]",
      "text/plain": [
       "<Figure size 432x288 with 1 Axes>"
      ]
     },
     "metadata": {
      "needs_background": "light"
     },
     "output_type": "display_data"
    }
   ],
   "source": [
    "\n",
    "plt.xlim((-.5,1))\n",
    "plt.ylim((0,20))\n",
    "\n",
    "a= plt.hist(data['GA'], bins = 100)"
   ]
  },
  {
   "cell_type": "code",
   "execution_count": 4,
   "metadata": {},
   "outputs": [
    {
     "data": {
      "text/plain": [
       "191"
      ]
     },
     "execution_count": 4,
     "metadata": {},
     "output_type": "execute_result"
    }
   ],
   "source": [
    "winners = load_obj(\"winning_alts\")\n",
    "len(winners)"
   ]
  },
  {
   "cell_type": "code",
   "execution_count": 103,
   "metadata": {},
   "outputs": [
    {
     "data": {
      "image/png": "[encoded data removed]",
      "text/plain": [
       "<Figure size 432x288 with 1 Axes>"
      ]
     },
     "metadata": {
      "needs_background": "light"
     },
     "output_type": "display_data"
    }
   ],
   "source": [
    "import numpy as np\n",
    "from mpl_toolkits.mplot3d import Axes3D\n",
    "from matplotlib import interactive\n",
    "interactive(True)\n",
    "\n",
    "fig = plt.figure()\n",
    "ax = fig.add_subplot(projection='3d')\n",
    "x, y = np.random.rand(2, 100) * 4\n",
    "hist, xedges, yedges = np.histogram2d(data['time'], data['GA'], bins=50, range=[[0, 4], [-1, 1]])\n",
    "\n",
    "# Construct arrays for the anchor positions of the 16 bars.\n",
    "xpos, ypos = np.meshgrid(xedges[:-1] + 0.25, yedges[:-1] + 0.25, indexing=\"ij\")\n",
    "xpos = xpos.ravel()\n",
    "ypos = ypos.ravel()\n",
    "zpos = 0\n",
    "\n",
    "# Construct arrays with the dimensions for the 16 bars.\n",
    "dx = dy = 0.5 * np.ones_like(zpos)\n",
    "dz = hist.ravel()\n",
    "\n",
    "ax.bar3d(xpos, ypos, zpos, dx, dy, dz, zsort='average')\n",
    "\n",
    "\n",
    "plt.show()"
   ]
  },
  {
   "cell_type": "code",
   "execution_count": 102,
   "metadata": {},
   "outputs": [],
   "source": [
    "%matplotlib inline"
   ]
  },
  {
   "cell_type": "code",
   "execution_count": null,
   "metadata": {},
   "outputs": [],
   "source": []
  }
 ],
 "metadata": {
  "interpreter": {
   "hash": "6b34d84b22623c4acdfaed0800e7c7fa9a41e7b435b0206e077a1cd283616d80"
  },
  "kernelspec": {
   "display_name": "Python 3.7.3 64-bit ('base': conda)",
   "name": "python3"
  },
  "language_info": {
   "codemirror_mode": {
    "name": "ipython",
    "version": 3
   },
   "file_extension": ".py",
   "mimetype": "text/x-python",
   "name": "python",
   "nbconvert_exporter": "python",
   "pygments_lexer": "ipython3",
   "version": "3.9.7"
  },
  "orig_nbformat": 4
 },
 "nbformat": 4,
 "nbformat_minor": 2
}
